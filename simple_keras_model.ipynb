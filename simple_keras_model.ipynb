{
 "cells": [
  {
   "cell_type": "code",
   "execution_count": 4,
   "metadata": {},
   "outputs": [
    {
     "name": "stdout",
     "output_type": "stream",
     "text": [
      "Epoch 1/20\n"
     ]
    },
    {
     "name": "stderr",
     "output_type": "stream",
     "text": [
      "2023-05-19 12:46:37.621214: W tensorflow/tsl/framework/cpu_allocator_impl.cc:83] Allocation of 552960000 exceeds 10% of free system memory.\n"
     ]
    },
    {
     "name": "stdout",
     "output_type": "stream",
     "text": [
      "704/704 [==============================] - 25s 35ms/step - loss: 1.5480 - accuracy: 0.4330 - precision_3: 0.6903 - recall_3: 0.1974 - val_loss: 1.2925 - val_accuracy: 0.5258 - val_precision_3: 0.6941 - val_recall_3: 0.3422\n",
      "Epoch 2/20\n",
      "704/704 [==============================] - 25s 35ms/step - loss: 1.2049 - accuracy: 0.5704 - precision_3: 0.7414 - recall_3: 0.3926 - val_loss: 1.1975 - val_accuracy: 0.5880 - val_precision_3: 0.7552 - val_recall_3: 0.3968\n",
      "Epoch 3/20\n",
      "704/704 [==============================] - 25s 35ms/step - loss: 1.0622 - accuracy: 0.6240 - precision_3: 0.7657 - recall_3: 0.4815 - val_loss: 1.0224 - val_accuracy: 0.6326 - val_precision_3: 0.7611 - val_recall_3: 0.4996\n",
      "Epoch 4/20\n",
      "704/704 [==============================] - 22s 31ms/step - loss: 0.9604 - accuracy: 0.6667 - precision_3: 0.7875 - recall_3: 0.5434 - val_loss: 0.9253 - val_accuracy: 0.6828 - val_precision_3: 0.7990 - val_recall_3: 0.5622\n",
      "Epoch 5/20\n",
      "704/704 [==============================] - 20s 28ms/step - loss: 0.8883 - accuracy: 0.6892 - precision_3: 0.7967 - recall_3: 0.5824 - val_loss: 0.9037 - val_accuracy: 0.6886 - val_precision_3: 0.8023 - val_recall_3: 0.5658\n",
      "Epoch 6/20\n",
      "704/704 [==============================] - 20s 29ms/step - loss: 0.8200 - accuracy: 0.7151 - precision_3: 0.8099 - recall_3: 0.6208 - val_loss: 0.8680 - val_accuracy: 0.7052 - val_precision_3: 0.7925 - val_recall_3: 0.6042\n",
      "Epoch 7/20\n",
      "704/704 [==============================] - 21s 29ms/step - loss: 0.7725 - accuracy: 0.7304 - precision_3: 0.8198 - recall_3: 0.6458 - val_loss: 0.8720 - val_accuracy: 0.7016 - val_precision_3: 0.7851 - val_recall_3: 0.6132\n",
      "Epoch 8/20\n",
      "704/704 [==============================] - 21s 29ms/step - loss: 0.7221 - accuracy: 0.7485 - precision_3: 0.8306 - recall_3: 0.6725 - val_loss: 0.8484 - val_accuracy: 0.7092 - val_precision_3: 0.7830 - val_recall_3: 0.6436\n",
      "Epoch 9/20\n",
      "704/704 [==============================] - 20s 29ms/step - loss: 0.6812 - accuracy: 0.7619 - precision_3: 0.8392 - recall_3: 0.6925 - val_loss: 0.8268 - val_accuracy: 0.7266 - val_precision_3: 0.7957 - val_recall_3: 0.6692\n",
      "Epoch 10/20\n",
      "704/704 [==============================] - 20s 29ms/step - loss: 0.6438 - accuracy: 0.7745 - precision_3: 0.8448 - recall_3: 0.7090 - val_loss: 0.8210 - val_accuracy: 0.7188 - val_precision_3: 0.7867 - val_recall_3: 0.6630\n",
      "Epoch 11/20\n",
      "704/704 [==============================] - 20s 29ms/step - loss: 0.6076 - accuracy: 0.7879 - precision_3: 0.8513 - recall_3: 0.7293 - val_loss: 0.8855 - val_accuracy: 0.7082 - val_precision_3: 0.7721 - val_recall_3: 0.6614\n",
      "Epoch 12/20\n",
      "704/704 [==============================] - 20s 29ms/step - loss: 0.5739 - accuracy: 0.7980 - precision_3: 0.8566 - recall_3: 0.7433 - val_loss: 0.8068 - val_accuracy: 0.7306 - val_precision_3: 0.7918 - val_recall_3: 0.6814\n",
      "Epoch 13/20\n",
      "704/704 [==============================] - 21s 30ms/step - loss: 0.5463 - accuracy: 0.8099 - precision_3: 0.8649 - recall_3: 0.7592 - val_loss: 0.8364 - val_accuracy: 0.7264 - val_precision_3: 0.7772 - val_recall_3: 0.6864\n",
      "Epoch 14/20\n",
      "704/704 [==============================] - 20s 29ms/step - loss: 0.5138 - accuracy: 0.8201 - precision_3: 0.8712 - recall_3: 0.7749 - val_loss: 0.8252 - val_accuracy: 0.7352 - val_precision_3: 0.7865 - val_recall_3: 0.6898\n",
      "Epoch 15/20\n",
      "704/704 [==============================] - 20s 29ms/step - loss: 0.4793 - accuracy: 0.8326 - precision_3: 0.8771 - recall_3: 0.7913 - val_loss: 0.8495 - val_accuracy: 0.7358 - val_precision_3: 0.7798 - val_recall_3: 0.6996\n",
      "Epoch 16/20\n",
      "704/704 [==============================] - 21s 29ms/step - loss: 0.4526 - accuracy: 0.8410 - precision_3: 0.8839 - recall_3: 0.8016 - val_loss: 0.9177 - val_accuracy: 0.7248 - val_precision_3: 0.7708 - val_recall_3: 0.6916\n",
      "Epoch 17/20\n",
      "704/704 [==============================] - 20s 29ms/step - loss: 0.4219 - accuracy: 0.8516 - precision_3: 0.8905 - recall_3: 0.8174 - val_loss: 0.9005 - val_accuracy: 0.7278 - val_precision_3: 0.7700 - val_recall_3: 0.6950\n",
      "Epoch 18/20\n",
      "704/704 [==============================] - 21s 29ms/step - loss: 0.3985 - accuracy: 0.8573 - precision_3: 0.8929 - recall_3: 0.8264 - val_loss: 0.9068 - val_accuracy: 0.7328 - val_precision_3: 0.7735 - val_recall_3: 0.7054\n",
      "Epoch 19/20\n",
      "704/704 [==============================] - 21s 29ms/step - loss: 0.3696 - accuracy: 0.8710 - precision_3: 0.9017 - recall_3: 0.8418 - val_loss: 0.9200 - val_accuracy: 0.7338 - val_precision_3: 0.7757 - val_recall_3: 0.7060\n",
      "Epoch 20/20\n",
      "704/704 [==============================] - 20s 29ms/step - loss: 0.3486 - accuracy: 0.8757 - precision_3: 0.9031 - recall_3: 0.8500 - val_loss: 1.0192 - val_accuracy: 0.7202 - val_precision_3: 0.7492 - val_recall_3: 0.6948\n",
      "313/313 - 1s - loss: 1.0800 - accuracy: 0.7081 - precision_3: 0.7380 - recall_3: 0.6829 - 1s/epoch - 4ms/step\n",
      "Accuracy = 0.7081000208854675, \n",
      "precision = 0.7380309104919434, \n",
      "recall = 0.6829000115394592,\n",
      "F1 score = 0.7093959452594519\n",
      "Training time: 425.0220639705658 seconds\n"
     ]
    }
   ],
   "source": [
    "import time\n",
    "import tensorflow as tf\n",
    "from tensorflow import keras\n",
    "from tensorflow.keras import layers\n",
    "\n",
    "import os\n",
    "import random\n",
    "import numpy as np\n",
    "\n",
    "import warnings\n",
    "warnings.filterwarnings('ignore')\n",
    "\n",
    "\n",
    "def seed_everything(seed):\n",
    "    random.seed(seed)\n",
    "    np.random.seed(seed)\n",
    "    os.environ['PYTHONHASHSEED'] = str(seed)\n",
    "\n",
    "seed_everything(42)\n",
    "\n",
    "# Load the CIFAR-10 dataset\n",
    "(x_train, y_train), (x_test, y_test) = keras.datasets.cifar10.load_data()\n",
    "num_classes = 10\n",
    "\n",
    "# Convert class labels to one-hot vectors\n",
    "y_train = keras.utils.to_categorical(y_train, num_classes)\n",
    "y_test = keras.utils.to_categorical(y_test, num_classes)\n",
    "\n",
    "# Normalize pixel values between 0 and 1\n",
    "x_train = x_train.astype(\"float32\") / 255.0\n",
    "x_test = x_test.astype(\"float32\") / 255.0\n",
    "\n",
    "# Define the model architecture\n",
    "model = keras.Sequential()\n",
    "model.add(layers.Conv2D(32, (3, 3), activation=\"relu\", input_shape=(32, 32, 3)))\n",
    "model.add(layers.MaxPooling2D((2, 2)))\n",
    "model.add(layers.Conv2D(64, (3, 3), activation=\"relu\"))\n",
    "model.add(layers.MaxPooling2D((2, 2)))\n",
    "model.add(layers.Conv2D(64, (3, 3), activation=\"relu\"))\n",
    "model.add(layers.Flatten())\n",
    "model.add(layers.Dense(64, activation=\"relu\"))\n",
    "model.add(layers.Dense(num_classes, activation=\"softmax\"))\n",
    "\n",
    "# Compile the model\n",
    "model.compile(\n",
    "    optimizer=\"adam\",\n",
    "    loss=\"categorical_crossentropy\",\n",
    "    metrics=['accuracy', tf.keras.metrics.Precision(), tf.keras.metrics.Recall()]\n",
    ")\n",
    "\n",
    "# Choose hyperparameters\n",
    "batch_size = 64\n",
    "epochs = 20\n",
    "\n",
    "# Start the timer\n",
    "start_time = time.time()\n",
    "\n",
    "# Train the model\n",
    "model.fit(x_train, y_train, batch_size=batch_size, epochs=epochs, validation_split=0.1)\n",
    "\n",
    "# Calculate the training time\n",
    "end_time = time.time()\n",
    "training_time = end_time - start_time"
   ]
  },
  {
   "cell_type": "code",
   "execution_count": 17,
   "metadata": {},
   "outputs": [
    {
     "name": "stdout",
     "output_type": "stream",
     "text": [
      "313/313 - 1s - loss: 1.0800 - accuracy: 0.7081 - precision_3: 0.7380 - recall_3: 0.6829 - 1s/epoch - 4ms/step\n",
      "\n",
      "accuracy = 0.71,\n",
      "precision = 0.74,\n",
      "recall = 0.68,\n",
      "F1 score = 0.71\n",
      "\n",
      "training time: 425.02 seconds\n"
     ]
    }
   ],
   "source": [
    "# Evaluate the model on the test set\n",
    "test_loss, test_accuracy, test_precision, test_recall = model.evaluate(x_test, y_test, verbose=2)\n",
    "test_f1 = 2 * (test_precision * test_recall) / (test_precision + test_recall)\n",
    "\n",
    "print(f\"\"\"\n",
    "accuracy = {test_accuracy:.2f},\n",
    "precision = {test_precision:.2f},\n",
    "recall = {test_recall:.2f},\n",
    "F1 score = {test_f1:.2f}\n",
    "\"\"\")\n",
    "\n",
    "# Print the training time\n",
    "print(f'training time: {training_time:.2f} seconds')"
   ]
  }
 ],
 "metadata": {
  "kernelspec": {
   "display_name": "Python 3",
   "language": "python",
   "name": "python3"
  },
  "language_info": {
   "codemirror_mode": {
    "name": "ipython",
    "version": 3
   },
   "file_extension": ".py",
   "mimetype": "text/x-python",
   "name": "python",
   "nbconvert_exporter": "python",
   "pygments_lexer": "ipython3",
   "version": "3.10.6"
  },
  "orig_nbformat": 4
 },
 "nbformat": 4,
 "nbformat_minor": 2
}
